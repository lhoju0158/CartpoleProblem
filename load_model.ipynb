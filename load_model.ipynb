{
 "cells": [
  {
   "cell_type": "code",
   "execution_count": null,
   "metadata": {},
   "outputs": [],
   "source": [
    "import os\n",
    "import gymnasium as gym\n",
    "from stable_baselines3 import PPO, A2C, DQN"
   ]
  },
  {
   "cell_type": "code",
   "execution_count": null,
   "metadata": {},
   "outputs": [
    {
     "name": "stdout",
     "output_type": "stream",
     "text": [
      "Video saved at: d:\\Project\\CartPoleProblem as PPO_cartpole_simulation.mp4\n"
     ]
    }
   ],
   "source": [
    "# Set path\n",
    "epochs = 500\n",
    "modelPath = os.path.join(os.getcwd(), f'models_{epochs}')\n",
    "\n",
    "algorithms = [\"A2C\", \"PPO\", \"DQN\"]\n",
    "\n",
    "# Set test Type and File\n",
    "modelType = \"PPO\"  \n",
    "modelFile = \"20000.zip\"  \n",
    "\n",
    "selectedAlgorithmPath = os.path.join(modelPath, modelType)\n",
    "modelFullPath = os.path.join(selectedAlgorithmPath, modelFile)\n",
    "\n",
    "if modelType not in algorithms or not os.path.exists(modelFullPath):\n",
    "    raise Exception(f\"ERROR: Invalid algorithm or model file! Algorithm: {modelType}, File: {modelFile}\")\n",
    "\n",
    "# Set Environment\n",
    "env = gym.make('CartPole-v1', render_mode='human') \n",
    "obs, info = env.reset()  \n",
    "\n",
    "model = None\n",
    "if modelType == \"PPO\":\n",
    "    model = PPO.load(modelFullPath, env=env)\n",
    "elif modelType == \"A2C\":\n",
    "    model = A2C.load(modelFullPath, env=env)\n",
    "elif modelType == \"DQN\":\n",
    "    model = DQN.load(modelFullPath, env=env)\n",
    "\n",
    "# Play model situlation\n",
    "for i in range(3): \n",
    "    obs, info = env.reset()  \n",
    "    done = False\n",
    "    while not done:\n",
    "        action, _states = model.predict(obs)\n",
    "        obs, rewards, terminated, truncated, info = env.step(action)\n",
    "        done = terminated or truncated  \n",
    "        env.render()\n",
    "\n",
    "env.close()\n",
    "\n",
    "print(f\"\\n{modelType} Model loaded from: {modelFullPath}\")"
   ]
  }
 ],
 "metadata": {
  "kernelspec": {
   "display_name": "venv9",
   "language": "python",
   "name": "python3"
  },
  "language_info": {
   "codemirror_mode": {
    "name": "ipython",
    "version": 3
   },
   "file_extension": ".py",
   "mimetype": "text/x-python",
   "name": "python",
   "nbconvert_exporter": "python",
   "pygments_lexer": "ipython3",
   "version": "3.9.0"
  }
 },
 "nbformat": 4,
 "nbformat_minor": 2
}
