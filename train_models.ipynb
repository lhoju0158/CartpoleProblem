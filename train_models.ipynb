{
 "cells": [
  {
   "cell_type": "code",
   "execution_count": 1,
   "metadata": {},
   "outputs": [],
   "source": [
    "import os\n",
    "import gymnasium as gym\n",
    "from stable_baselines3 import PPO, A2C, DQN\n",
    "from tqdm import tqdm"
   ]
  },
  {
   "cell_type": "code",
   "execution_count": null,
   "metadata": {},
   "outputs": [
    {
     "name": "stderr",
     "output_type": "stream",
     "text": [
      "Training Progress: 100%|██████████| 499/499 [5:41:50<00:00, 41.10s/it]    "
     ]
    },
    {
     "name": "stdout",
     "output_type": "stream",
     "text": [
      "\n",
      "Final results:\n",
      "PPO Model saved at: d:\\Project\\CartPoleProblem\\models_500\\PPO\n",
      "A2C Model saved at: d:\\Project\\CartPoleProblem\\models_500\\A2C\n",
      "DQN Model saved at: d:\\Project\\CartPoleProblem\\models_500\\DQN\n"
     ]
    },
    {
     "name": "stderr",
     "output_type": "stream",
     "text": [
      "\n"
     ]
    }
   ],
   "source": [
    "epochs = 500 \n",
    "\n",
    "# Set path\n",
    "logsPath = os.path.join(os.getcwd(), 'logs')\n",
    "ppoModelsPath = os.path.join(os.getcwd(), f'models_{epochs}', 'PPO')\n",
    "a2cModelsPath = os.path.join(os.getcwd(), f'models_{epochs}', 'A2C')\n",
    "dqnModelsPath = os.path.join(os.getcwd(), f'models_{epochs}', 'DQN')\n",
    "\n",
    "# Make Dir\n",
    "if not os.path.exists(logsPath):    \n",
    "    os.makedirs(logsPath)\n",
    "if not os.path.exists(ppoModelsPath):   \n",
    "    os.makedirs(ppoModelsPath)\n",
    "if not os.path.exists(a2cModelsPath):   \n",
    "    os.makedirs(a2cModelsPath)\n",
    "if not os.path.exists(dqnModelsPath):   \n",
    "    os.makedirs(dqnModelsPath)\n",
    "\n",
    "# Set Enviroment\n",
    "env = gym.make('CartPole-v1')\n",
    "env.reset()\n",
    "\n",
    "# Reset Model\n",
    "ppoModel = PPO('MlpPolicy', env, verbose=0, tensorboard_log=logsPath)  \n",
    "a2cModel = A2C('MlpPolicy', env, verbose=0, tensorboard_log=logsPath)  \n",
    "dqnModel = DQN('MlpPolicy', env, verbose=0, tensorboard_log=logsPath) \n",
    "\n",
    "timesteps = 10000\n",
    "\n",
    "for i in tqdm(range(1, epochs), desc=\"Training Progress\"):\n",
    "    ppoModel.learn(total_timesteps=timesteps, reset_num_timesteps=False, tb_log_name=\"PPO\")\n",
    "    ppoModel.save(\"%s/%s\" % (ppoModelsPath, timesteps * i))\n",
    "    \n",
    "    a2cModel.learn(total_timesteps=timesteps, reset_num_timesteps=False, tb_log_name=\"A2C\")\n",
    "    a2cModel.save(\"%s/%s\" % (a2cModelsPath, timesteps * i))\n",
    "    \n",
    "    dqnModel.learn(total_timesteps=timesteps, reset_num_timesteps=False, tb_log_name=\"DQN\")\n",
    "    dqnModel.save(\"%s/%s\" % (dqnModelsPath, timesteps * i))\n",
    "\n",
    "env.close()\n",
    "\n",
    "# Check Result\n",
    "print(\"\\nFinal results:\")\n",
    "print(\"PPO Model saved at: %s\" % ppoModelsPath)\n",
    "print(\"A2C Model saved at: %s\" % a2cModelsPath)\n",
    "print(\"DQN Model saved at: %s\" % dqnModelsPath)\n"
   ]
  }
 ],
 "metadata": {
  "kernelspec": {
   "display_name": "venv9",
   "language": "python",
   "name": "python3"
  },
  "language_info": {
   "codemirror_mode": {
    "name": "ipython",
    "version": 3
   },
   "file_extension": ".py",
   "mimetype": "text/x-python",
   "name": "python",
   "nbconvert_exporter": "python",
   "pygments_lexer": "ipython3",
   "version": "3.9.0"
  }
 },
 "nbformat": 4,
 "nbformat_minor": 2
}
